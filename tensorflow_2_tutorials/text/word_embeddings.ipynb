{
  "nbformat": 4,
  "nbformat_minor": 0,
  "metadata": {
    "colab": {
      "name": "text-word_embeddings.ipynb",
      "provenance": [],
      "collapsed_sections": []
    },
    "kernelspec": {
      "name": "python3",
      "display_name": "Python 3"
    }
  },
  "cells": [
    {
      "cell_type": "markdown",
      "metadata": {
        "id": "eKv0HgJ58ZS5",
        "colab_type": "text"
      },
      "source": [
        "[Word embeddings Tutorial in TensorFlow 2.0](https://www.tensorflow.org/tutorials/text/word_embeddings)"
      ]
    },
    {
      "cell_type": "code",
      "metadata": {
        "id": "Kb4ri-eitdJo",
        "colab_type": "code",
        "colab": {}
      },
      "source": [
        "import tensorflow as tf"
      ],
      "execution_count": 0,
      "outputs": []
    },
    {
      "cell_type": "code",
      "metadata": {
        "id": "YWEdU9Io5T2Z",
        "colab_type": "code",
        "colab": {}
      },
      "source": [
        "import tensorflow_datasets as tfds\n",
        "tfds.disable_progress_bar()"
      ],
      "execution_count": 0,
      "outputs": []
    },
    {
      "cell_type": "code",
      "metadata": {
        "id": "08qp-YwMF2Ev",
        "colab_type": "code",
        "colab": {}
      },
      "source": [
        "import matplotlib.pyplot as plt"
      ],
      "execution_count": 0,
      "outputs": []
    },
    {
      "cell_type": "markdown",
      "metadata": {
        "id": "c-uuk-l18Ogi",
        "colab_type": "text"
      },
      "source": [
        "# Embedding Layer"
      ]
    },
    {
      "cell_type": "markdown",
      "metadata": {
        "id": "nVdPUBG264z_",
        "colab_type": "text"
      },
      "source": [
        "Create and Embedding layer to map integer encoded tokens to dense vectors"
      ]
    },
    {
      "cell_type": "code",
      "metadata": {
        "id": "PNKx-z5M6CIo",
        "colab_type": "code",
        "colab": {}
      },
      "source": [
        "embedding_layer = tf.keras.layers.Embedding(input_dim=1000, output_dim=5)"
      ],
      "execution_count": 0,
      "outputs": []
    },
    {
      "cell_type": "markdown",
      "metadata": {
        "id": "qCOQ-X-p61IA",
        "colab_type": "text"
      },
      "source": [
        "Let's test the embedding layer by passing a vector with random integer values"
      ]
    },
    {
      "cell_type": "code",
      "metadata": {
        "id": "MV7tp2Mt6HeX",
        "colab_type": "code",
        "colab": {
          "base_uri": "https://localhost:8080/",
          "height": 122
        },
        "outputId": "d9304216-b47d-4b19-8c69-43cd3b4ed8ff"
      },
      "source": [
        "embedding_layer(tf.constant([1, 2, 3, 999]))"
      ],
      "execution_count": 5,
      "outputs": [
        {
          "output_type": "execute_result",
          "data": {
            "text/plain": [
              "<tf.Tensor: shape=(4, 5), dtype=float32, numpy=\n",
              "array([[ 0.04648489, -0.04847095, -0.04736141, -0.00178094,  0.04458966],\n",
              "       [-0.01664212, -0.00362859, -0.04557537,  0.02738701,  0.00064861],\n",
              "       [-0.00542611,  0.0007062 ,  0.03764484, -0.00022081,  0.0304679 ],\n",
              "       [ 0.02659723,  0.00344061, -0.01342522,  0.03061112,  0.01194257]],\n",
              "      dtype=float32)>"
            ]
          },
          "metadata": {
            "tags": []
          },
          "execution_count": 5
        }
      ]
    },
    {
      "cell_type": "markdown",
      "metadata": {
        "id": "nHN9SOG36oiP",
        "colab_type": "text"
      },
      "source": [
        "What are the limits in terms of allowed integer values? Let's try with a negative value (-1) and then a positive value above the maximum number of input dimensions (1001)"
      ]
    },
    {
      "cell_type": "code",
      "metadata": {
        "id": "GEs-l1xL6ecx",
        "colab_type": "code",
        "colab": {
          "base_uri": "https://localhost:8080/",
          "height": 34
        },
        "outputId": "433423a9-bf5a-4de2-cffd-fdcfc110cf29"
      },
      "source": [
        "try:\n",
        "  embedding_layer(tf.constant(-1))\n",
        "except Exception:\n",
        "  print(\"We expected an error to happen\")"
      ],
      "execution_count": 8,
      "outputs": [
        {
          "output_type": "stream",
          "text": [
            "We expected an error to happen\n"
          ],
          "name": "stdout"
        }
      ]
    },
    {
      "cell_type": "code",
      "metadata": {
        "id": "vXuXBzoj6mzq",
        "colab_type": "code",
        "colab": {
          "base_uri": "https://localhost:8080/",
          "height": 34
        },
        "outputId": "a8d60f5c-3d15-4e7f-85d7-6666827f1e97"
      },
      "source": [
        "try:\n",
        "  embedding_layer(tf.constant(1001))\n",
        "except Exception:\n",
        "  print(\"We expected an error to happen\")"
      ],
      "execution_count": 9,
      "outputs": [
        {
          "output_type": "stream",
          "text": [
            "We expected an error to happen\n"
          ],
          "name": "stdout"
        }
      ]
    },
    {
      "cell_type": "markdown",
      "metadata": {
        "id": "5zU43DDy7AXr",
        "colab_type": "text"
      },
      "source": [
        "Ok, we expected that! Let's move forward..."
      ]
    },
    {
      "cell_type": "markdown",
      "metadata": {
        "id": "9WNm9dn07Tm3",
        "colab_type": "text"
      },
      "source": [
        "We can pass 2D inputs, as we would if working in a sequence or text problem. That is, (batch_size, sequence_length). The Embedding layer returns then a 3D floating point tensor of shape (batch_size, sequence_length, embedding_dimensionality).\n",
        "\n",
        "In this case, if we pass a set of 3 sequences of length 4, we will get a tensor with dimensions (3, 4, 5)"
      ]
    },
    {
      "cell_type": "code",
      "metadata": {
        "id": "xqyFq9_97h5W",
        "colab_type": "code",
        "colab": {
          "base_uri": "https://localhost:8080/",
          "height": 281
        },
        "outputId": "54e8fedc-09be-440d-cc2b-fbe75601f971"
      },
      "source": [
        "real_sequence = tf.constant(\n",
        "    [\n",
        "     [4, 10, 3, 2],\n",
        "     [2, 4, 1, 5],\n",
        "     [102, 40, 81, 22],\n",
        "     ]\n",
        ")\n",
        "real_embeddings = embedding_layer(real_sequence)\n",
        "real_embeddings_np = real_embeddings.numpy()\n",
        "print(real_embeddings_np.shape)\n",
        "print(real_embeddings_np)"
      ],
      "execution_count": 10,
      "outputs": [
        {
          "output_type": "stream",
          "text": [
            "(3, 4, 5)\n",
            "[[[ 0.00235314 -0.01403177  0.0443331  -0.00093251 -0.00634632]\n",
            "  [-0.0445886   0.04017819  0.0263827   0.01134465  0.01420883]\n",
            "  [-0.00542611  0.0007062   0.03764484 -0.00022081  0.0304679 ]\n",
            "  [-0.01664212 -0.00362859 -0.04557537  0.02738701  0.00064861]]\n",
            "\n",
            " [[-0.01664212 -0.00362859 -0.04557537  0.02738701  0.00064861]\n",
            "  [ 0.00235314 -0.01403177  0.0443331  -0.00093251 -0.00634632]\n",
            "  [ 0.04648489 -0.04847095 -0.04736141 -0.00178094  0.04458966]\n",
            "  [-0.0080845   0.0005384  -0.01357831 -0.00474878 -0.00982768]]\n",
            "\n",
            " [[ 0.03299589 -0.01934789 -0.02338247  0.01046027  0.00089132]\n",
            "  [ 0.02787478 -0.02197886  0.00073989  0.02610666 -0.0003572 ]\n",
            "  [ 0.01049454 -0.00107913 -0.01240262 -0.02326345  0.01700437]\n",
            "  [ 0.03585149 -0.02232385 -0.01286187  0.0085189   0.03787551]]]\n"
          ],
          "name": "stdout"
        }
      ]
    },
    {
      "cell_type": "markdown",
      "metadata": {
        "id": "LRd13fe08Qg1",
        "colab_type": "text"
      },
      "source": [
        "# Learning embeddings from scratch"
      ]
    },
    {
      "cell_type": "markdown",
      "metadata": {
        "id": "LSvU42Fj8TtE",
        "colab_type": "text"
      },
      "source": [
        "We will train a sentiment classifier on IMDB movie reviews"
      ]
    },
    {
      "cell_type": "code",
      "metadata": {
        "id": "MTkSHnyD79QU",
        "colab_type": "code",
        "colab": {}
      },
      "source": [
        "(train_data, test_data), info = tfds.load(\n",
        "    \"imdb_reviews/subwords8k\", \n",
        "    split=(tfds.Split.TRAIN, tfds.Split.TEST), \n",
        "    with_info=True, \n",
        "    as_supervised=True\n",
        ")"
      ],
      "execution_count": 0,
      "outputs": []
    },
    {
      "cell_type": "markdown",
      "metadata": {
        "id": "Bc6m8BBbAC-w",
        "colab_type": "text"
      },
      "source": [
        "Let's inspect the words encoder, that can be found in `info.features[\"text\"].encoder`"
      ]
    },
    {
      "cell_type": "code",
      "metadata": {
        "id": "BU2gGwQMAK-R",
        "colab_type": "code",
        "colab": {
          "base_uri": "https://localhost:8080/",
          "height": 565
        },
        "outputId": "2c15a16f-c0b2-49bc-e3cc-2a27b0564cf3"
      },
      "source": [
        "info"
      ],
      "execution_count": 12,
      "outputs": [
        {
          "output_type": "execute_result",
          "data": {
            "text/plain": [
              "tfds.core.DatasetInfo(\n",
              "    name='imdb_reviews',\n",
              "    version=1.0.0,\n",
              "    description='Large Movie Review Dataset.\n",
              "This is a dataset for binary sentiment classification containing substantially more data than previous benchmark datasets. We provide a set of 25,000 highly polar movie reviews for training, and 25,000 for testing. There is additional unlabeled data for use as well.',\n",
              "    homepage='http://ai.stanford.edu/~amaas/data/sentiment/',\n",
              "    features=FeaturesDict({\n",
              "        'label': ClassLabel(shape=(), dtype=tf.int64, num_classes=2),\n",
              "        'text': Text(shape=(None,), dtype=tf.int64, encoder=<SubwordTextEncoder vocab_size=8185>),\n",
              "    }),\n",
              "    total_num_examples=100000,\n",
              "    splits={\n",
              "        'test': 25000,\n",
              "        'train': 25000,\n",
              "        'unsupervised': 50000,\n",
              "    },\n",
              "    supervised_keys=('text', 'label'),\n",
              "    citation=\"\"\"@InProceedings{maas-EtAl:2011:ACL-HLT2011,\n",
              "      author    = {Maas, Andrew L.  and  Daly, Raymond E.  and  Pham, Peter T.  and  Huang, Dan  and  Ng, Andrew Y.  and  Potts, Christopher},\n",
              "      title     = {Learning Word Vectors for Sentiment Analysis},\n",
              "      booktitle = {Proceedings of the 49th Annual Meeting of the Association for Computational Linguistics: Human Language Technologies},\n",
              "      month     = {June},\n",
              "      year      = {2011},\n",
              "      address   = {Portland, Oregon, USA},\n",
              "      publisher = {Association for Computational Linguistics},\n",
              "      pages     = {142--150},\n",
              "      url       = {http://www.aclweb.org/anthology/P11-1015}\n",
              "    }\"\"\",\n",
              "    redistribution_info=,\n",
              ")"
            ]
          },
          "metadata": {
            "tags": []
          },
          "execution_count": 12
        }
      ]
    },
    {
      "cell_type": "code",
      "metadata": {
        "id": "8AooAfit8vd9",
        "colab_type": "code",
        "colab": {}
      },
      "source": [
        "encoder = info.features[\"text\"].encoder"
      ],
      "execution_count": 0,
      "outputs": []
    },
    {
      "cell_type": "code",
      "metadata": {
        "id": "baF2tAoO_3XY",
        "colab_type": "code",
        "colab": {
          "base_uri": "https://localhost:8080/",
          "height": 545
        },
        "outputId": "ed98af0a-7e2e-4bb9-ecbb-cf7e666d5b0a"
      },
      "source": [
        "encoder.subwords[:30]"
      ],
      "execution_count": 14,
      "outputs": [
        {
          "output_type": "execute_result",
          "data": {
            "text/plain": [
              "['the_',\n",
              " ', ',\n",
              " '. ',\n",
              " 'a_',\n",
              " 'and_',\n",
              " 'of_',\n",
              " 'to_',\n",
              " 's_',\n",
              " 'is_',\n",
              " 'br',\n",
              " 'in_',\n",
              " 'I_',\n",
              " 'that_',\n",
              " 'this_',\n",
              " 'it_',\n",
              " ' /><',\n",
              " ' />',\n",
              " 'was_',\n",
              " 'The_',\n",
              " 'as_',\n",
              " 't_',\n",
              " 'with_',\n",
              " 'for_',\n",
              " '.<',\n",
              " 'on_',\n",
              " 'but_',\n",
              " 'movie_',\n",
              " ' (',\n",
              " 'are_',\n",
              " 'his_']"
            ]
          },
          "metadata": {
            "tags": []
          },
          "execution_count": 14
        }
      ]
    },
    {
      "cell_type": "code",
      "metadata": {
        "id": "b-8-RWzK_7Rl",
        "colab_type": "code",
        "colab": {
          "base_uri": "https://localhost:8080/",
          "height": 34
        },
        "outputId": "93168bd9-a899-4d01-dc18-1f72128817e0"
      },
      "source": [
        "encoder.vocab_size"
      ],
      "execution_count": 15,
      "outputs": [
        {
          "output_type": "execute_result",
          "data": {
            "text/plain": [
              "8185"
            ]
          },
          "metadata": {
            "tags": []
          },
          "execution_count": 15
        }
      ]
    },
    {
      "cell_type": "markdown",
      "metadata": {
        "id": "90RDVeTWAUtR",
        "colab_type": "text"
      },
      "source": [
        "Let's inspect the training dataset, `train_data`. But first, apply a random shuffling."
      ]
    },
    {
      "cell_type": "code",
      "metadata": {
        "id": "O6XI_ihNATwe",
        "colab_type": "code",
        "colab": {
          "base_uri": "https://localhost:8080/",
          "height": 34
        },
        "outputId": "7ac503ae-28d5-4f2f-8828-ae4b92afa10f"
      },
      "source": [
        "train_data = train_data.shuffle(1000)\n",
        "test_data = test_data.shuffle(1000)\n",
        "train_data"
      ],
      "execution_count": 16,
      "outputs": [
        {
          "output_type": "execute_result",
          "data": {
            "text/plain": [
              "<DatasetV1Adapter shapes: ((None,), ()), types: (tf.int64, tf.int64)>"
            ]
          },
          "metadata": {
            "tags": []
          },
          "execution_count": 16
        }
      ]
    },
    {
      "cell_type": "code",
      "metadata": {
        "id": "2aIFitxnAY9D",
        "colab_type": "code",
        "colab": {
          "base_uri": "https://localhost:8080/",
          "height": 193
        },
        "outputId": "37fa1604-da2e-48b4-b6c3-b82e044f7497"
      },
      "source": [
        "for encoded_text, label in train_data.take(5):\n",
        "  print(f\"Encoded text tensor shape: {encoded_text.shape}\")\n",
        "  print(f\"Label: {label.numpy()}\")"
      ],
      "execution_count": 17,
      "outputs": [
        {
          "output_type": "stream",
          "text": [
            "Encoded text tensor shape: (161,)\n",
            "Label: 0\n",
            "Encoded text tensor shape: (212,)\n",
            "Label: 1\n",
            "Encoded text tensor shape: (218,)\n",
            "Label: 0\n",
            "Encoded text tensor shape: (320,)\n",
            "Label: 1\n",
            "Encoded text tensor shape: (140,)\n",
            "Label: 1\n"
          ],
          "name": "stdout"
        }
      ]
    },
    {
      "cell_type": "markdown",
      "metadata": {
        "id": "pOmORtOrBRTJ",
        "colab_type": "text"
      },
      "source": [
        "Let's try to batch the elements in the dataset with padding. Consult the `tf.data.Dataset.padded_batch` docstring [here](https://www.tensorflow.org/api_docs/python/tf/data/Dataset#padded_batch)."
      ]
    },
    {
      "cell_type": "code",
      "metadata": {
        "id": "lJOuAS2kAdvk",
        "colab_type": "code",
        "colab": {}
      },
      "source": [
        "train_batches = train_data.padded_batch(16)\n",
        "test_batches = test_data.padded_batch(16)"
      ],
      "execution_count": 0,
      "outputs": []
    },
    {
      "cell_type": "code",
      "metadata": {
        "id": "GNCtQ-eWB89R",
        "colab_type": "code",
        "colab": {
          "base_uri": "https://localhost:8080/",
          "height": 721
        },
        "outputId": "9103a7e9-f9a7-49e6-b27c-a4376d7365cc"
      },
      "source": [
        "for train_batch, train_label in train_batches.take(4):\n",
        "  print(train_batch.shape)\n",
        "  print(train_batch)\n",
        "  print(\"-\"*80)"
      ],
      "execution_count": 19,
      "outputs": [
        {
          "output_type": "stream",
          "text": [
            "(16, 1032)\n",
            "tf.Tensor(\n",
            "[[  12 3059 5086 ...  317 8050 7975]\n",
            " [5646    2  920 ...    0    0    0]\n",
            " [  19 6918 7961 ...    0    0    0]\n",
            " ...\n",
            " [1698   95    1 ...    0    0    0]\n",
            " [  74   65    2 ...    0    0    0]\n",
            " [ 173    9    4 ...    0    0    0]], shape=(16, 1032), dtype=int64)\n",
            "--------------------------------------------------------------------------------\n",
            "(16, 534)\n",
            "tf.Tensor(\n",
            "[[2288 8001   90 ...    0    0    0]\n",
            " [7448 7961 7228 ... 3851 5622 7975]\n",
            " [  62    9    4 ...    0    0    0]\n",
            " ...\n",
            " [1184 8002 7968 ...    0    0    0]\n",
            " [7989   10   16 ...    0    0    0]\n",
            " [  12 1167 7968 ...    0    0    0]], shape=(16, 534), dtype=int64)\n",
            "--------------------------------------------------------------------------------\n",
            "(16, 777)\n",
            "tf.Tensor(\n",
            "[[  12  641    7 ...    0    0    0]\n",
            " [  19  811    9 ...    0    0    0]\n",
            " [3187   89 6545 ...    0    0    0]\n",
            " ...\n",
            " [  12  304 6219 ...    0    0    0]\n",
            " [ 768 5236 2127 ...    0    0    0]\n",
            " [7963 6389  884 ...    0    0    0]], shape=(16, 777), dtype=int64)\n",
            "--------------------------------------------------------------------------------\n",
            "(16, 736)\n",
            "tf.Tensor(\n",
            "[[  12  129   12 ...    0    0    0]\n",
            " [1454 2943  125 ...    0    0    0]\n",
            " [ 518 3962   38 ...    0    0    0]\n",
            " ...\n",
            " [ 133 2690 1083 ...    0    0    0]\n",
            " [ 977    1  294 ...    0    0    0]\n",
            " [  14    9   45 ...    0    0    0]], shape=(16, 736), dtype=int64)\n",
            "--------------------------------------------------------------------------------\n"
          ],
          "name": "stdout"
        }
      ]
    },
    {
      "cell_type": "markdown",
      "metadata": {
        "id": "R2WgqmrjCeDO",
        "colab_type": "text"
      },
      "source": [
        "# Create a simple model"
      ]
    },
    {
      "cell_type": "markdown",
      "metadata": {
        "id": "WSy87rUiCpra",
        "colab_type": "text"
      },
      "source": [
        "## Model description\n",
        "\n",
        "* Next the Embedding layer takes the integer-encoded vocabulary and looks up the embedding vector for each word-index. These vectors are learned as the model trains. The vectors add a dimension to the output array. The resulting dimensions are: `(batch, sequence, embedding)`.\n",
        "* Next, a GlobalAveragePooling1D layer returns a fixed-length output vector for each example by averaging over the sequence dimension. This allows the model to handle input of variable length, in the simplest way possible.\n",
        "* This fixed-length output vector is piped through a fully-connected (Dense) layer with 16 hidden units.\n",
        "* The last layer is densely connected with a single output node. Using the sigmoid activation function, this value is a float between 0 and 1, representing a probability (or confidence level) that the review is positive."
      ]
    },
    {
      "cell_type": "code",
      "metadata": {
        "id": "bKRgEq4DD7oH",
        "colab_type": "code",
        "colab": {}
      },
      "source": [
        "embedding_layer_dim = 16\n",
        "embedding_dense_dim = 16"
      ],
      "execution_count": 0,
      "outputs": []
    },
    {
      "cell_type": "code",
      "metadata": {
        "id": "QimL2Pk2DSU0",
        "colab_type": "code",
        "colab": {
          "base_uri": "https://localhost:8080/",
          "height": 298
        },
        "outputId": "5506be1f-b326-41f2-81f8-6c5b583c7773"
      },
      "source": [
        "model = tf.keras.Sequential([\n",
        "  tf.keras.layers.Embedding(input_dim=encoder.vocab_size, output_dim=embedding_layer_dim, mask_zero=True),\n",
        "  tf.keras.layers.GlobalAveragePooling1D(),\n",
        "  tf.keras.layers.Dense(embedding_dense_dim, activation='relu'),\n",
        "  tf.keras.layers.Dense(1),\n",
        "])\n",
        "model.summary()"
      ],
      "execution_count": 23,
      "outputs": [
        {
          "output_type": "stream",
          "text": [
            "Model: \"sequential\"\n",
            "_________________________________________________________________\n",
            "Layer (type)                 Output Shape              Param #   \n",
            "=================================================================\n",
            "embedding_1 (Embedding)      (None, None, 16)          130960    \n",
            "_________________________________________________________________\n",
            "global_average_pooling1d (Gl (None, 16)                0         \n",
            "_________________________________________________________________\n",
            "dense (Dense)                (None, 16)                272       \n",
            "_________________________________________________________________\n",
            "dense_1 (Dense)              (None, 1)                 17        \n",
            "=================================================================\n",
            "Total params: 131,249\n",
            "Trainable params: 131,249\n",
            "Non-trainable params: 0\n",
            "_________________________________________________________________\n"
          ],
          "name": "stdout"
        }
      ]
    },
    {
      "cell_type": "code",
      "metadata": {
        "id": "E1CDS1V4KVWt",
        "colab_type": "code",
        "colab": {
          "base_uri": "https://localhost:8080/",
          "height": 263
        },
        "outputId": "1418e5d6-d5c5-48bf-a315-f17530e0df83"
      },
      "source": [
        "simplified_model = tf.keras.Sequential([\n",
        "  tf.keras.layers.Embedding(input_dim=encoder.vocab_size, output_dim=embedding_layer_dim, mask_zero=True),\n",
        "  tf.keras.layers.GlobalAveragePooling1D(),\n",
        "  tf.keras.layers.Dense(1),\n",
        "])\n",
        "simplified_model.summary()"
      ],
      "execution_count": 24,
      "outputs": [
        {
          "output_type": "stream",
          "text": [
            "Model: \"sequential_1\"\n",
            "_________________________________________________________________\n",
            "Layer (type)                 Output Shape              Param #   \n",
            "=================================================================\n",
            "embedding_2 (Embedding)      (None, None, 16)          130960    \n",
            "_________________________________________________________________\n",
            "global_average_pooling1d_1 ( (None, 16)                0         \n",
            "_________________________________________________________________\n",
            "dense_2 (Dense)              (None, 1)                 17        \n",
            "=================================================================\n",
            "Total params: 130,977\n",
            "Trainable params: 130,977\n",
            "Non-trainable params: 0\n",
            "_________________________________________________________________\n"
          ],
          "name": "stdout"
        }
      ]
    },
    {
      "cell_type": "markdown",
      "metadata": {
        "id": "ipeTVR3PDFrS",
        "colab_type": "text"
      },
      "source": [
        "**NOTE**: This model uses masking thanks to the `mask_zero=True` argument passed to the `Embedding` layer. If it was not set, the zero-padding would used as part of the input, so the padding length would affect the output. See the [masking and padding guide](https://www.tensorflow.org/guide/keras/masking_and_padding) for more detailed information."
      ]
    },
    {
      "cell_type": "code",
      "metadata": {
        "id": "Y3WuXqcOCOKj",
        "colab_type": "code",
        "colab": {}
      },
      "source": [
        "model.compile(\n",
        "    optimizer=\"adam\",\n",
        "    loss=tf.keras.losses.BinaryCrossentropy(from_logits=True),\n",
        "    metrics=[\"accuracy\"],\n",
        ")"
      ],
      "execution_count": 0,
      "outputs": []
    },
    {
      "cell_type": "code",
      "metadata": {
        "id": "fEHd1kGSKtcl",
        "colab_type": "code",
        "colab": {}
      },
      "source": [
        "simplified_model.compile(\n",
        "    optimizer=\"adam\",\n",
        "    loss=tf.keras.losses.BinaryCrossentropy(from_logits=True),\n",
        "    metrics=[\"accuracy\"],\n",
        ")"
      ],
      "execution_count": 0,
      "outputs": []
    },
    {
      "cell_type": "code",
      "metadata": {
        "id": "lS77fW0zE7SH",
        "colab_type": "code",
        "colab": {
          "base_uri": "https://localhost:8080/",
          "height": 369
        },
        "outputId": "a2716a67-21e5-43de-bd90-54ead6d94a79"
      },
      "source": [
        "# history = model.fit(train_batches, epochs=10, validation_data=test_batches, validation_steps=20)\n",
        "history = simplified_model.fit(train_batches, epochs=10, validation_data=test_batches, validation_steps=20)"
      ],
      "execution_count": 27,
      "outputs": [
        {
          "output_type": "stream",
          "text": [
            "Epoch 1/10\n",
            "1563/1563 [==============================] - 11s 7ms/step - loss: 0.5736 - accuracy: 0.6302 - val_loss: 0.4584 - val_accuracy: 0.8062\n",
            "Epoch 2/10\n",
            "1563/1563 [==============================] - 11s 7ms/step - loss: 0.3629 - accuracy: 0.8459 - val_loss: 0.3484 - val_accuracy: 0.8750\n",
            "Epoch 3/10\n",
            "1563/1563 [==============================] - 12s 7ms/step - loss: 0.2809 - accuracy: 0.8851 - val_loss: 0.3214 - val_accuracy: 0.8562\n",
            "Epoch 4/10\n",
            "1563/1563 [==============================] - 12s 8ms/step - loss: 0.2377 - accuracy: 0.9053 - val_loss: 0.3195 - val_accuracy: 0.8562\n",
            "Epoch 5/10\n",
            "1563/1563 [==============================] - 12s 7ms/step - loss: 0.2092 - accuracy: 0.9170 - val_loss: 0.2836 - val_accuracy: 0.8656\n",
            "Epoch 6/10\n",
            "1563/1563 [==============================] - 11s 7ms/step - loss: 0.1879 - accuracy: 0.9259 - val_loss: 0.3035 - val_accuracy: 0.8750\n",
            "Epoch 7/10\n",
            "1563/1563 [==============================] - 11s 7ms/step - loss: 0.1710 - accuracy: 0.9339 - val_loss: 0.2456 - val_accuracy: 0.8969\n",
            "Epoch 8/10\n",
            "1563/1563 [==============================] - 12s 7ms/step - loss: 0.1567 - accuracy: 0.9402 - val_loss: 0.2849 - val_accuracy: 0.8687\n",
            "Epoch 9/10\n",
            "1563/1563 [==============================] - 11s 7ms/step - loss: 0.1450 - accuracy: 0.9440 - val_loss: 0.2758 - val_accuracy: 0.8781\n",
            "Epoch 10/10\n",
            "1563/1563 [==============================] - 11s 7ms/step - loss: 0.1340 - accuracy: 0.9488 - val_loss: 0.2962 - val_accuracy: 0.8781\n"
          ],
          "name": "stdout"
        }
      ]
    },
    {
      "cell_type": "markdown",
      "metadata": {
        "id": "9IBkM6qMGM6X",
        "colab_type": "text"
      },
      "source": [
        "Let's plot the training and validation curves"
      ]
    },
    {
      "cell_type": "code",
      "metadata": {
        "id": "b8AyYX6aFR5t",
        "colab_type": "code",
        "colab": {
          "base_uri": "https://localhost:8080/",
          "height": 1000
        },
        "outputId": "a75a1549-5019-429e-c371-ff305214c1d0"
      },
      "source": [
        "history_dict = history.history\n",
        "\n",
        "acc = history_dict['accuracy']\n",
        "val_acc = history_dict['val_accuracy']\n",
        "loss = history_dict['loss']\n",
        "val_loss = history_dict['val_loss']\n",
        "epochs = range(1, len(acc) + 1)\n",
        "\n",
        "plt.figure(figsize=(12,9))\n",
        "plt.plot(epochs, loss, 'bo', label='Training loss')\n",
        "plt.plot(epochs, val_loss, 'b', label='Validation loss')\n",
        "plt.title('Training and validation loss')\n",
        "plt.xlabel('Epochs')\n",
        "plt.ylabel('Loss')\n",
        "plt.legend()\n",
        "plt.show()\n",
        "\n",
        "plt.figure(figsize=(12,9))\n",
        "plt.plot(epochs, acc, 'bo', label='Training acc')\n",
        "plt.plot(epochs, val_acc, 'b', label='Validation acc')\n",
        "plt.title('Training and validation accuracy')\n",
        "plt.xlabel('Epochs')\n",
        "plt.ylabel('Accuracy')\n",
        "plt.legend(loc='lower right')\n",
        "plt.ylim((0.5,1))\n",
        "plt.show()"
      ],
      "execution_count": 28,
      "outputs": [
        {
          "output_type": "display_data",
          "data": {
            "image/png": "[encoded data removed]",
            "text/plain": [
              "<Figure size 864x648 with 1 Axes>"
            ]
          },
          "metadata": {
            "tags": [],
            "needs_background": "light"
          }
        },
        {
          "output_type": "display_data",
          "data": {
            "image/png": "[encoded data removed]",
            "text/plain": [
              "<Figure size 864x648 with 1 Axes>"
            ]
          },
          "metadata": {
            "tags": [],
            "needs_background": "light"
          }
        }
      ]
    },
    {
      "cell_type": "markdown",
      "metadata": {
        "id": "TBjYwTaqGrQT",
        "colab_type": "text"
      },
      "source": [
        "# Inspect the learnt embeddings"
      ]
    },
    {
      "cell_type": "code",
      "metadata": {
        "id": "4a8-ANKWGQtc",
        "colab_type": "code",
        "colab": {
          "base_uri": "https://localhost:8080/",
          "height": 54
        },
        "outputId": "488eedb0-9c66-40d7-d250-fc505706bdd9"
      },
      "source": [
        "print(model.layers)"
      ],
      "execution_count": 29,
      "outputs": [
        {
          "output_type": "stream",
          "text": [
            "[<tensorflow.python.keras.layers.embeddings.Embedding object at 0x7f1519e215f8>, <tensorflow.python.keras.layers.pooling.GlobalAveragePooling1D object at 0x7f1519e217f0>, <tensorflow.python.keras.layers.core.Dense object at 0x7f1519e21908>, <tensorflow.python.keras.layers.core.Dense object at 0x7f1519e21b70>]\n"
          ],
          "name": "stdout"
        }
      ]
    },
    {
      "cell_type": "code",
      "metadata": {
        "id": "9rN5KOBbG2Rg",
        "colab_type": "code",
        "colab": {}
      },
      "source": [
        "embedding_layer = model.layers[0]\n",
        "weights = embedding_layer.get_weights()[0]"
      ],
      "execution_count": 0,
      "outputs": []
    },
    {
      "cell_type": "code",
      "metadata": {
        "id": "gF4ACR9-G9ER",
        "colab_type": "code",
        "colab": {
          "base_uri": "https://localhost:8080/",
          "height": 34
        },
        "outputId": "a97d651e-3dae-47b6-cb75-e87cd83d022b"
      },
      "source": [
        "print(weights.shape)"
      ],
      "execution_count": 31,
      "outputs": [
        {
          "output_type": "stream",
          "text": [
            "(8185, 16)\n"
          ],
          "name": "stdout"
        }
      ]
    },
    {
      "cell_type": "markdown",
      "metadata": {
        "id": "GqejLlwqHQ7F",
        "colab_type": "text"
      },
      "source": [
        "Let's write the embeddings to disk in TSV (tab-separated values) so that we can visualize them with the [Embedding Projector](http://projector.tensorflow.org/)."
      ]
    },
    {
      "cell_type": "code",
      "metadata": {
        "id": "yi7z3YgsG-cB",
        "colab_type": "code",
        "colab": {}
      },
      "source": [
        "import io\n",
        "\n",
        "encoder = info.features[\"text\"].encoder\n",
        "\n",
        "out_v = io.open(\"vecs.tsv\", \"w\", encoding=\"utf-8\")\n",
        "out_m = io.open(\"meta.tsv\", \"w\", encoding=\"utf-8\")\n",
        "\n",
        "# Iterate over all words in the vocabulary and fetch their embedding vector\n",
        "# Skip 0 as it represents padding\n",
        "for idx in range(1, len(encoder.subwords)):\n",
        "  word = encoder.subwords[idx]\n",
        "  vec = weights[idx]\n",
        "  out_m.write(word + \"\\n\")\n",
        "  out_v.write(\"\\t\".join([str(x) for x in vec]) + \"\\n\")\n",
        "\n",
        "out_v.close()\n",
        "out_m.close()"
      ],
      "execution_count": 0,
      "outputs": []
    },
    {
      "cell_type": "code",
      "metadata": {
        "id": "SUpC57JtIEQM",
        "colab_type": "code",
        "colab": {}
      },
      "source": [
        ""
      ],
      "execution_count": 0,
      "outputs": []
    }
  ]
}